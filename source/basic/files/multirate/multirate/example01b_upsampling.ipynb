{
 "cells": [
  {
   "cell_type": "markdown",
   "id": "1e9b6635",
   "metadata": {},
   "source": [
    "#  Upsampling Example"
   ]
  },
  {
   "cell_type": "markdown",
   "id": "7a365745",
   "metadata": {},
   "source": [
    "Ericsson Nikola Tesla - DSP Hackaton 2021"
   ]
  },
  {
   "cell_type": "markdown",
   "id": "e2ec0405",
   "metadata": {},
   "source": [
    "###  0. Imports"
   ]
  },
  {
   "cell_type": "code",
   "execution_count": null,
   "id": "f6d12cf9",
   "metadata": {},
   "outputs": [],
   "source": [
    "import sys\n",
    "import numpy as np\n",
    "import matplotlib.pyplot as plot\n",
    "from scipy import signal\n",
    "import array as arr"
   ]
  },
  {
   "cell_type": "markdown",
   "id": "043e84cb",
   "metadata": {},
   "source": [
    "###  1. Upsampling"
   ]
  },
  {
   "cell_type": "code",
   "execution_count": null,
   "id": "b025cadf",
   "metadata": {},
   "outputs": [],
   "source": [
    "f = arr.array('d', [0, 0.2500, 0.5000, 0.7500, 1.0000])\n",
    "a = arr.array('d', [1.00, 0.5000, 0.0, 0.0, 0.0])\n",
    "\n",
    "nf = 512\n",
    "b1 = signal.firwin2(nf - 1, f, a)\n",
    "w, h = signal.freqz(b1, 1, nf)\n",
    "omega = np.arange(-np.pi, np.pi - 2*np.pi/nf, 2*np.pi/nf)\n",
    "\n",
    "#create interpolated signal\n",
    "y = signal.resample(b1, len(b1)*2)\n",
    "w, hy = signal.freqz(y, 1, nf)\n",
    "\n",
    "#plot both signals in frequency domain - shrunk spectrum\n",
    "#no alias images can be observed due to antialias filtering in the resample method\n",
    "plot.plot(omega/np.pi, np.absolute(h), 'b')\n",
    "plot.plot(omega/np.pi, np.absolute(hy), 'r')\n",
    "plot.xlabel('pi rad/s')\n",
    "plot.ylabel('Magnitude')\n",
    "plot.suptitle('Input vs Upsampled signal')\n",
    "plot.show()"
   ]
  },
  {
   "cell_type": "markdown",
   "id": "cf624e7d",
   "metadata": {},
   "source": [
    "## 2. Interpolating With Zeros"
   ]
  },
  {
   "cell_type": "code",
   "execution_count": null,
   "id": "e4b234ba",
   "metadata": {},
   "outputs": [],
   "source": [
    "N = 40\n",
    "L = 3\n",
    "fs1 = 10\n",
    "fs2 = L*fs1\n",
    "f0 = 3\n",
    "tx = np.arange(N/fs1)\n",
    "\n",
    "#input signal\n",
    "x = np.cos(2*np.pi*f0*tx)\n",
    "\n",
    "#interpolated signal with \"manually\" added zeroes in between samples to show the imaging effect\n",
    "y = np.zeros(3*len(x))\n",
    "y[::3] = x\n",
    "\n",
    "#y = signal.resample(x, len(x)*L)\n",
    "ty = np.arange(len(y))\n",
    "\n",
    "#plot input and interpolated signal in time domain\n",
    "Nfft = 256\n",
    "fig, (ax1, ax2) = plot.subplots(1, 2)\n",
    "fig.suptitle('Input vs Interpolated signal (time domain)')\n",
    "\n",
    "ax1.stem(tx,x)\n",
    "ax1.set_xlabel('n')\n",
    "ax1.set_ylabel('x[n]')\n",
    "ax1.title.set_text('Input signal')\n",
    "\n",
    "ax2.stem(ty,y)\n",
    "ax2.set_xlabel('n')\n",
    "ax2.set_ylabel('y[n]')\n",
    "ax2.title.set_text('Interpolated signal')\n",
    "plot.show()\n",
    "\n",
    "Nfft = 256\n",
    "fk1 = np.fft.fftfreq(Nfft, 1/fs1)\n",
    "X = np.fft.fft(x, Nfft)\n",
    "\n",
    "fk2 = np.fft.fftfreq(Nfft, 1/fs2)\n",
    "Y = np.fft.fft(y, Nfft)"
   ]
  },
  {
   "cell_type": "markdown",
   "id": "fc8bffa6",
   "metadata": {},
   "source": [
    "### Plot amplitude spectrums of input and decimated signals"
   ]
  },
  {
   "cell_type": "code",
   "execution_count": null,
   "id": "06bf9d0f",
   "metadata": {},
   "outputs": [],
   "source": [
    "fig, (ax1, ax2) = plot.subplots(1, 2)\n",
    "fig.suptitle('Amplitude spectrum')\n",
    "\n",
    "ax1.plot(fk1, 20*np.log10(np.abs(X), out=np.abs(X), where=np.abs(X)>0))\n",
    "ax1.set_xlabel('f[Hz]')\n",
    "ax1.set_ylabel('Amplitude [dB]')\n",
    "ax1.title.set_text('Input signal')\n",
    "\n",
    "ax2.plot(fk2, 20*np.log10(np.abs(Y), out=np.abs(Y), where=np.abs(Y)>0))\n",
    "ax2.plot(fk2, 20*np.log10(np.abs(Y)), 'r')\n",
    "ax2.set_xlabel('f[Hz]')\n",
    "ax2.set_ylabel('Amplitude [dB]')\n",
    "ax2.title.set_text('Interpolated signal')\n",
    "plot.show()"
   ]
  },
  {
   "cell_type": "markdown",
   "id": "8d77f8a5",
   "metadata": {},
   "source": [
    "Observe that the amplitude spectrum of the interpolated signal is shrunk and images of the original signal are occurring"
   ]
  }
 ],
 "metadata": {
  "kernelspec": {
   "display_name": "Python 3",
   "language": "python",
   "name": "python3"
  },
  "language_info": {
   "codemirror_mode": {
    "name": "ipython",
    "version": 3
   },
   "file_extension": ".py",
   "mimetype": "text/x-python",
   "name": "python",
   "nbconvert_exporter": "python",
   "pygments_lexer": "ipython3",
   "version": "3.7.10"
  }
 },
 "nbformat": 4,
 "nbformat_minor": 5
}
