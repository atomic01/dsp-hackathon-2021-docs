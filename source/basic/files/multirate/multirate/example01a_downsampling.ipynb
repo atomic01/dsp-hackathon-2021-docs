{
 "cells": [
  {
   "cell_type": "markdown",
   "id": "d56c89ac",
   "metadata": {},
   "source": [
    "# Downsampling Example"
   ]
  },
  {
   "cell_type": "markdown",
   "id": "c6531b2f",
   "metadata": {},
   "source": [
    "Ericsson Nikola Tesla - DSP Hackaton 2021"
   ]
  },
  {
   "cell_type": "markdown",
   "id": "875094d1",
   "metadata": {},
   "source": [
    "###  0. Imports"
   ]
  },
  {
   "cell_type": "code",
   "execution_count": null,
   "id": "09966773",
   "metadata": {},
   "outputs": [],
   "source": [
    "import sys\n",
    "import numpy as np\n",
    "import matplotlib.pyplot as plot\n",
    "from scipy import signal\n",
    "import array as arr"
   ]
  },
  {
   "cell_type": "markdown",
   "id": "f5643a8c",
   "metadata": {},
   "source": [
    "###  1. Aliasing"
   ]
  },
  {
   "cell_type": "code",
   "execution_count": null,
   "id": "072b21c9",
   "metadata": {},
   "outputs": [],
   "source": [
    "#create band-limited input signal\n",
    "f = arr.array('d', [0, 0.2500, 0.5000, 0.7500, 1.0000])\n",
    "a = arr.array('d', [1.00, 0.6667, 0.3333, 0.0, 0.0])\n",
    "\n",
    "nf = 512\n",
    "b1 = signal.firwin2(nf - 1, f, a)\n",
    "w, h = signal.freqz(b1, 1, nf)\n",
    "omega = np.arange(-np.pi, np.pi - 2*np.pi/nf, 2*np.pi/nf)\n",
    "\n",
    "#create decimated signal\n",
    "#y = signal.decimate(b1, 2, zero_phase=True)             #decimate does antialias filtering \n",
    "y = signal.resample(b1, len(b1)//2)\n",
    "w, hy = signal.freqz(y, 1, nf)\n",
    "\n",
    "#plot spectrums of input and decimated signal and observe the aliasing\n",
    "plot.plot(omega/np.pi, np.absolute(h), 'b')\n",
    "plot.plot(omega/np.pi, np.absolute(hy), 'r')\n",
    "plot.xlabel('pi rad/s')\n",
    "plot.ylabel('Magnitude')\n",
    "plot.suptitle('Input vs Decimated signal (aliasing)')\n",
    "plot.show()"
   ]
  },
  {
   "cell_type": "markdown",
   "id": "02ab451c",
   "metadata": {},
   "source": [
    "### 2. Decimate"
   ]
  },
  {
   "cell_type": "code",
   "execution_count": null,
   "id": "e23864da",
   "metadata": {},
   "outputs": [],
   "source": [
    "f1 = 1          #frequency of first component in signal\n",
    "f2 = 2          #frequency of second component in signal\n",
    "R = 4           #decimation factor\n",
    "fs1 = 50        #sampling frequency of the input signal\n",
    "fs2 = fs1/R     #sampling frequeny of the decimated signal\n",
    "Nx = 50\n",
    "\n",
    "#create an input signal\n",
    "nx = np.arange(Nx - 1)\n",
    "x = np.sin(2*np.pi*(f1/fs1)*nx) + np.sin(2*np.pi*f2/fs1*nx)\n",
    "\n",
    "#creat a decimated signal\n",
    "y = signal.resample(x, len(x)//R)\n",
    "ny = np.arange(len(y))\n",
    "\n",
    "#plot input and decimated signal in time domain\n",
    "fig, (ax1, ax2) = plot.subplots(1, 2)\n",
    "fig.suptitle('Time domain')\n",
    "\n",
    "ax1.stem(nx,x)\n",
    "ax1.set_xlabel('n')\n",
    "ax1.set_ylabel('x[n]')\n",
    "ax1.title.set_text('Input signal')\n",
    "\n",
    "ax2.stem(ny,y, 'r')\n",
    "ax2.set_xlabel('n')\n",
    "ax2.set_ylabel('y[n]')\n",
    "ax2.title.set_text('Decimated signal')\n",
    "plot.show()\n",
    "\n",
    "Nfft = 256\n",
    "fk1 = np.fft.fftfreq(Nfft, 1/fs1)\n",
    "X = np.fft.fft(x, Nfft)\n",
    "\n",
    "fk2 = np.fft.fftfreq(Nfft, 1/fs2)\n",
    "Y = np.fft.fft(y, Nfft)\n",
    "\n",
    "#plot amplitude spectrums of input and decimated signals\n",
    "fig, (ax1, ax2) = plot.subplots(1, 2)\n",
    "fig.suptitle('Amplitude spectrum')\n",
    "\n",
    "ax1.plot(fk1, 20*np.log10(np.abs(X)))\n",
    "ax1.set_xlabel('f[Hz]')\n",
    "ax1.set_ylabel('Amplitude [dB]')\n",
    "ax1.title.set_text('Input signal')\n",
    "\n",
    "ax2.plot(fk2, 20*np.log10(np.abs(Y)), 'r')\n",
    "ax2.set_xlabel('f[Hz]')\n",
    "ax2.set_ylabel('Amplitude [dB]')\n",
    "ax2.title.set_text('Decimated signal')\n",
    "plot.show()"
   ]
  }
 ],
 "metadata": {
  "kernelspec": {
   "display_name": "Python 3",
   "language": "python",
   "name": "python3"
  },
  "language_info": {
   "codemirror_mode": {
    "name": "ipython",
    "version": 3
   },
   "file_extension": ".py",
   "mimetype": "text/x-python",
   "name": "python",
   "nbconvert_exporter": "python",
   "pygments_lexer": "ipython3",
   "version": "3.7.10"
  }
 },
 "nbformat": 4,
 "nbformat_minor": 5
}
