{
 "cells": [
  {
   "cell_type": "markdown",
   "id": "558f153b",
   "metadata": {},
   "source": [
    "# Basic Level Example"
   ]
  },
  {
   "cell_type": "markdown",
   "id": "4e924dd0",
   "metadata": {},
   "source": [
    "Ericsson Nikola Tesla - DSP Hackaton 2021"
   ]
  },
  {
   "cell_type": "markdown",
   "id": "4d6a30b6",
   "metadata": {},
   "source": [
    "###  0. Imports"
   ]
  },
  {
   "cell_type": "code",
   "execution_count": null,
   "id": "b8f59767",
   "metadata": {},
   "outputs": [],
   "source": [
    "import math\n",
    "import numpy as np\n",
    "\n",
    "import matplotlib.pyplot as plt\n",
    "\n",
    "from scipy.signal import freqz\n",
    "from scipy.fft import fft"
   ]
  },
  {
   "cell_type": "markdown",
   "id": "2b7da8dc",
   "metadata": {},
   "source": [
    "### 1. Signal Generation"
   ]
  },
  {
   "cell_type": "code",
   "execution_count": null,
   "id": "7a096096",
   "metadata": {},
   "outputs": [],
   "source": [
    "# We produce a signal with multiple frequency components\n",
    "# x(n) = [ series of 10 random integers elem {0..10} ]\n",
    "x = np.random.randint(10, size=10)\n",
    "\n",
    "# Sample axis\n",
    "n = np.array(range(10)) + 1\n",
    "\n",
    "## Plot the signal\n",
    "\n",
    "timeFig = plt.figure()\n",
    "\n",
    "plt.stem(n,x,basefmt=' ')\n",
    "\n",
    "plt.xlabel(\"n\")\n",
    "plt.ylabel(\"x(n)\")\n",
    "plt.grid(True)\n",
    "plt.show(block=False)"
   ]
  },
  {
   "cell_type": "markdown",
   "id": "c81d79d5",
   "metadata": {},
   "source": [
    "### 2. DTFT"
   ]
  },
  {
   "cell_type": "code",
   "execution_count": null,
   "id": "08e874a7",
   "metadata": {},
   "outputs": [],
   "source": [
    "# Frequency axis\n",
    "w = np.arange(0, 2*math.pi, 0.05)\n",
    "\n",
    "#\n",
    "# NOTE\n",
    "# The DTFT function `freqz` can only output a sampled spectrum. However,\n",
    "# we are using a frequency axis which is quite dense. For this purpose,\n",
    "# we can consider the ouptut of `freqz` as continuous.\n",
    "\n",
    "_, X_dtft = freqz(x, 1, len(w), whole=True)\n",
    "\n",
    "spectrumFig = plt.figure();\n",
    "\n",
    "# Amplitude spectrum\n",
    "plt.subplot(2,1,1)\n",
    "plt.plot(w, np.abs(X_dtft), color='blue')\n",
    "\n",
    "# Formatting the plot\n",
    "plt.xlim(0, 2*math.pi)\n",
    "plt.xticks(np.linspace(0, 2*math.pi, 5), ['0', '$\\pi$/2', '$\\pi$', '3$\\pi$/2', '2$\\pi$'])\n",
    "plt.grid(True)\n",
    "plt.xlabel('$\\Omega$')\n",
    "plt.ylabel('|X($\\Omega$)|')\n",
    "\n",
    "# Phase spectrum\n",
    "plt.subplot(2,1,2)\n",
    "plt.plot(w, np.angle(X_dtft), color='blue')\n",
    "\n",
    "# Formatting the plot\n",
    "plt.xlim(0, 2*math.pi)\n",
    "plt.xticks(np.linspace(0, 2*math.pi, 5), ['0', '$\\pi$/2', '$\\pi$', '3$\\pi$/2', '2$\\pi$'])\n",
    "plt.ylim(-math.pi, math.pi)\n",
    "plt.yticks(np.linspace(-math.pi, math.pi, 5), ['-$\\pi$', '-$\\pi$/2', '0', '$\\pi$/2', '$\\pi$'])\n",
    "plt.grid(True)\n",
    "plt.xlabel('$\\Omega$')\n",
    "plt.ylabel('angle(X($\\Omega$))')\n",
    "\n",
    "plt.show(block=False)"
   ]
  },
  {
   "cell_type": "markdown",
   "id": "184c70aa",
   "metadata": {},
   "source": [
    "### 3. FFT"
   ]
  },
  {
   "cell_type": "code",
   "execution_count": null,
   "id": "5a209697",
   "metadata": {},
   "outputs": [],
   "source": [
    "# We will now call `fft` with no additional parameters.\n",
    "\n",
    "X_fft = fft(x)\n",
    "\n",
    "# Bin axis\n",
    "k = np.arange(0,len(X_fft))\n",
    "\n",
    "## Plot the spectrum\n",
    "plt.figure(spectrumFig)\n",
    "\n",
    "# Amplitude spectrum\n",
    "plt.subplot(2,1,1)\n",
    "plt.stem(2*math.pi*k/len(k), np.abs(X_fft), linefmt='r', basefmt=' ')\n",
    "\n",
    "# Phase spectrum\n",
    "plt.subplot(2,1,2)\n",
    "plt.stem(2*math.pi*k/len(k), np.angle(X_fft), linefmt='r', basefmt=' ')\n",
    "\n",
    "plt.show(block=False)"
   ]
  },
  {
   "cell_type": "markdown",
   "id": "019727cd",
   "metadata": {},
   "source": [
    "### 4. Zero Padding and FFT"
   ]
  },
  {
   "cell_type": "markdown",
   "id": "4fbcb3b8",
   "metadata": {},
   "source": [
    "At this point, it is evident that the DFT (found by using the FFT\n",
    "algorithm, samples the continous spectrum found by FFT.\n",
    "\n",
    "An important assumption we've made to achieve this is that the\n",
    "analyzed signal is now constrained (and periodic) in time domain.\n",
    "\n",
    "For DTFT, the signal was defined only on samples n=1:10. For all other\n",
    "samples n=-infty:infty, we had to assume a zero value.\n",
    "\n",
    "Let's put this claim to the test."
   ]
  },
  {
   "cell_type": "code",
   "execution_count": null,
   "id": "c2e6c6d2",
   "metadata": {},
   "outputs": [],
   "source": [
    "## Zero-pad the signal\n",
    "\n",
    "x_zp = np.concatenate((x, np.zeros(10, dtype=int)))\n",
    "\n",
    "# Sample axis\n",
    "n_zp = np.arange(1,21)\n",
    "\n",
    "## Plot the signal\n",
    "\n",
    "plt.figure(timeFig)\n",
    "\n",
    "plt.stem(n_zp, x_zp, linefmt='g', markerfmt='go', basefmt=' ')\n",
    "\n",
    "plt.show(block=False)\n",
    "\n",
    "## Find FFT\n",
    "\n",
    "X_zp = fft(x_zp)\n",
    "\n",
    "# Bin axis\n",
    "k = np.arange(0, len(X_zp))\n",
    "\n",
    "## Plot the spectrum\n",
    "\n",
    "plt.figure(spectrumFig)\n",
    "\n",
    "# Amplitude spectrum\n",
    "plt.subplot(2,1,1)\n",
    "plt.stem(2*math.pi*k/len(k), np.abs(X_zp), linefmt='g', markerfmt='go', basefmt=' ')\n",
    "\n",
    "# Phase spectrum\n",
    "plt.subplot(2,1,2)\n",
    "plt.stem(2*math.pi*k/len(k), np.angle(X_zp), linefmt='g', markerfmt='go', basefmt=' ')\n",
    "\n",
    "plt.show(block=False)"
   ]
  },
  {
   "cell_type": "markdown",
   "id": "54a5456e",
   "metadata": {},
   "source": [
    "### 5. Discrete Frequency Axis"
   ]
  },
  {
   "cell_type": "markdown",
   "id": "7c691358",
   "metadata": {},
   "source": [
    "Here we present how the frequency of a continuous signal maps\n",
    "to its discrete signal counterpart on the [-pi,pi> frequency axis."
   ]
  },
  {
   "cell_type": "code",
   "execution_count": null,
   "id": "84a462f0",
   "metadata": {},
   "outputs": [],
   "source": [
    "# Generate a sine signal with some noise \n",
    "\n",
    "fs=1.024e3 # Sampling frequency\n",
    "N=1024 # Number of samples of sine signal\n",
    "f0=32 # Signal frequency\n",
    "\n",
    "# Time axis, normalized to fs\n",
    "t=np.arange(0,N-1)/fs \n",
    "\n",
    "# Signal\n",
    "x = np.cos(2 * np.pi * f0 * t)\n",
    "\n",
    "noise = np.random.normal(0, .1, x.shape)\n",
    "x = x + noise\n",
    "\n",
    "## Calculate spectrum\n",
    "Nfft=256\n",
    "\n",
    "# Spacing between each FFT bin\n",
    "deltaf=fs/Nfft\n",
    "\n",
    "# Frequency axis\n",
    "f=np.fft.fftfreq(Nfft,1/fs)\n",
    "f=np.fft.fftshift(f)\n",
    "\n",
    "# FFT\n",
    "X=np.fft.fft(x,Nfft)\n",
    "X=np.fft.fftshift(X)\n",
    "\n",
    "## Plots\n",
    "\n",
    "# Time domain\n",
    "plt.figure()\n",
    "plt.stem(t,x)\n",
    "plt.xlabel('Time [s]')\n",
    "plt.ylabel('Amplitude')\n",
    "plt.title('Time domain')\n",
    "\n",
    "plt.show(block=False)\n",
    "\n",
    "# Amplitude spectrum\n",
    "plt.figure()\n",
    "plt.plot(f,20*np.log10(np.abs(X)))\n",
    "plt.ylabel('|X| [dB]')\n",
    "plt.xlabel('f [Hz]')\n",
    "plt.title('Amplitude spectrum')\n",
    "\n",
    "plt.show(block=False)"
   ]
  },
  {
   "cell_type": "markdown",
   "id": "a108d6a1",
   "metadata": {},
   "source": [
    "###  Discussion"
   ]
  },
  {
   "cell_type": "markdown",
   "id": "2d1d0f53",
   "metadata": {},
   "source": [
    "The second figure shows the amplitude spectrum of a sine signal.\n",
    "\n",
    "The signal was generated with central frequency of 32. \n",
    "\n",
    "(We interpret the time scale as being in seconds, so we say the frequency is in\n",
    "units of Hertz.)\n",
    "\n",
    "After discretization in 1024 points, with a sampling frequency fs,\n",
    "\n",
    "we obtain a discrete signal for which we observe the frequency axis in\n",
    "\n",
    "interval **[-pi, pi>**. However, knowing the sampling frequency, this axis\n",
    "\n",
    "can be interpreted as **[-fs/2,fs/2>**, which we then used when plotting the spectrum."
   ]
  }
 ],
 "metadata": {
  "kernelspec": {
   "display_name": "Python 3",
   "language": "python",
   "name": "python3"
  },
  "language_info": {
   "codemirror_mode": {
    "name": "ipython",
    "version": 3
   },
   "file_extension": ".py",
   "mimetype": "text/x-python",
   "name": "python",
   "nbconvert_exporter": "python",
   "pygments_lexer": "ipython3",
   "version": "3.7.10"
  }
 },
 "nbformat": 4,
 "nbformat_minor": 5
}
