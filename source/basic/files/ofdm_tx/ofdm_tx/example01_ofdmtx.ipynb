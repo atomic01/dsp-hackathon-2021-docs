{
 "cells": [
  {
   "cell_type": "markdown",
   "id": "75dcc05b",
   "metadata": {},
   "source": [
    "# OFDM Tx Example"
   ]
  },
  {
   "cell_type": "markdown",
   "id": "83647d04",
   "metadata": {},
   "source": [
    "Ericsson Nikola Tesla - DSP Hackaton 2021"
   ]
  },
  {
   "cell_type": "markdown",
   "id": "641d2dfa",
   "metadata": {},
   "source": [
    "### 0. Imports"
   ]
  },
  {
   "cell_type": "code",
   "execution_count": null,
   "id": "7abe2656",
   "metadata": {},
   "outputs": [],
   "source": [
    "import math\n",
    "import numpy as np\n",
    "\n",
    "import matplotlib.pyplot as plt\n",
    "\n",
    "from scipy.fft import fft"
   ]
  },
  {
   "cell_type": "markdown",
   "id": "81f7f36a",
   "metadata": {},
   "source": [
    "### 1. Message (Bitstream) Creation"
   ]
  },
  {
   "cell_type": "markdown",
   "id": "c3930b54",
   "metadata": {},
   "source": [
    "In this example, we will use OAM-16 modulation for coding the subcarriers in OFDM simbol.\n",
    "\n",
    "\n",
    "Note the difference between \"simbol\" and \"OFDM simbol\".\n",
    "\n",
    "Simbol is part of tx message, in this case carrying 4 bit length information (possible values 0-15).\n",
    "\n",
    "\n",
    "Each simbol is coded into amplitude and phase of specific OFDM subcarrier.\n",
    "\n",
    "\n",
    "Together specific number of OFDM subcarriers make OFDM simbol."
   ]
  },
  {
   "cell_type": "code",
   "execution_count": null,
   "id": "7870539f",
   "metadata": {},
   "outputs": [],
   "source": [
    "simbolsTx=np.array((8, 9, 12, 12, 3, 2, 9, 8, 13, 8, 4, 8, 4, 2, 0, 11, 9, 8, 3, 7, 3, 7, 11, 0, 10, 12, 15, 0, 14, 14, 3, 15, 8, 3, 3, 7, 15, 2, 2, 0, 10, 2, 3, 4, 3, 9, 2, 4, 7, 0, 8, 6, 8, 10, 1, 12, 1, 1, 15, 9, 5, 15, 6, 4, 13, 9, 0, 13, 0, 12, 0, 8, 6, 4, 8, 7, 14, 0, 5, 3, 3, 3, 1, 5, 9, 3, 7, 4, 14, 13, 1, 6,  14, 1, 14, 14, 4, 0, 15, 9, 4, 9, 8, 4, 8, 13, 15, 13, 0, 3, 15, 7, 4, 9, 14, 6, 7, 0, 15, 14, 7, 0, 9, 6, 11, 10, 1, 6, 0, 2, 12, 2, 7, 5, 5, 7, 15, 11, 15, 2, 0, 11, 3, 5, 4, 6, 13, 3, 2, 13, 10, 3, 10, 0, 11, 15, 11, 15, 12, 3, 0, 8))"
   ]
  },
  {
   "cell_type": "markdown",
   "id": "f8ccd610",
   "metadata": {},
   "source": [
    "### 2. OFDM Parameters"
   ]
  },
  {
   "cell_type": "code",
   "execution_count": null,
   "id": "b2878ed8",
   "metadata": {},
   "outputs": [],
   "source": [
    "# total 256 OFDM bins\n",
    "Nfft=256 # total number of OFDM sub-carriers \n",
    "Ng=Nfft/4 # length of guard interval\n",
    "fs=30.72e6; #sampling frequency of the system \n",
    "\n",
    "#frequency axis for FFT, as range [-fs/2,fs/2]\n",
    "deltaf=fs/Nfft\n",
    "f=np.fft.fftfreq(Nfft,1/fs)\n",
    "f=np.fft.fftshift(f)\n",
    "\n",
    "# positions [-103,-102,...,0,...,102,103] are used\n",
    "activeSubcarriersPos=np.arange(-103,104,1) \n",
    "\n",
    "# pilot positions [-103,-98,...,-3,...,3,8,...,103] \n",
    "pilotSubcarriersPos=np.concatenate((np.arange(-103,0,5), np.arange(3,104,5)))\n",
    "pilotAmplitude=1\n",
    "pilotPhase=0\n",
    "# DC subcarriers\n",
    "subCarriersAroundDcPos=np.array([-1,0,1])\n",
    "\n",
    "# position of data subcarriers are the rest of active subcarrier positions, that are not pilot or DC positions\n",
    "dataSubcarriersPos=activeSubcarriersPos[np.isin(activeSubcarriersPos,np.concatenate((pilotSubcarriersPos,subCarriersAroundDcPos)), invert=True)]"
   ]
  },
  {
   "cell_type": "markdown",
   "id": "8523c9fc",
   "metadata": {},
   "source": [
    "### 3. Simbols Mapping"
   ]
  },
  {
   "cell_type": "code",
   "execution_count": null,
   "id": "2c0afbc8",
   "metadata": {},
   "outputs": [],
   "source": [
    "constellation = np.array(\n",
    "[ 1+1j,   # 0='0000'#\n",
    "  1+3j,   # 1='0001'\n",
    "  3+1j,   # 2='0010'\n",
    "  3+3j,   # 3='0011'\n",
    "  1-1j,   # 4='0100'\n",
    "  1-3j,   # 5='0101'\n",
    "  3-1j,   # 6='0110'\n",
    "  3-3j,   # 7='0111'\n",
    "  -1+1j,  # 8='1000'\n",
    "  -1+3j,  # 9='1001'\n",
    "  -3+1j,  #10='1010'\n",
    "  -3+3j,  #11='1011'\n",
    "  -1-1j,  #12='1100'\n",
    "  -1-3j,  #13='1101'\n",
    "  -3-1j,  #14='1110'\n",
    "  -3-3j,  #15='1111'\n",
    "  ])"
   ]
  },
  {
   "cell_type": "code",
   "execution_count": null,
   "id": "f68e83e4",
   "metadata": {},
   "outputs": [],
   "source": [
    "Aph_dataSubcarriers=constellation[(simbolsTx)]"
   ]
  },
  {
   "cell_type": "markdown",
   "id": "2b6ae1a2",
   "metadata": {},
   "source": [
    "###  4. Create OFDM Simbol"
   ]
  },
  {
   "cell_type": "code",
   "execution_count": null,
   "id": "0acc417f",
   "metadata": {},
   "outputs": [],
   "source": [
    "OFDMsimbol_f=np.zeros(Nfft,dtype = 'complex_')\n",
    "indexOffset=Nfft/2\n",
    "\n",
    "# first place pilot subcarriers\n",
    "pilotIndices=pilotSubcarriersPos+indexOffset\n",
    "OFDMsimbol_f[pilotIndices.astype(int)]=pilotAmplitude*np.exp(1j*pilotPhase)\n",
    "\n",
    "# then place data subcarriers\n",
    "dataIndices=dataSubcarriersPos+indexOffset\n",
    "OFDMsimbol_f[dataIndices.astype(int)]=Aph_dataSubcarriers\n",
    "\n",
    "# Plot amplitude and phase spectrum of OFDM simbol\n",
    "ofdmSimbolFig = plt.figure()\n",
    "plt.subplot(2,1,1);\n",
    "plt.stem(f/1e6, np.abs(OFDMsimbol_f))\n",
    "plt.title('OFDM simbol - amplitude spectrum');\n",
    "plt.xlabel('f [MHz]');\n",
    "plt.ylabel('Amplitude');\n",
    "plt.subplot(2,1,2);\n",
    "plt.stem(f/1e6, np.angle(OFDMsimbol_f)*180/np.pi)\n",
    "plt.title('OFDM simbol - phase spectrum');\n",
    "plt.xlabel('f [MHz]');\n",
    "plt.ylabel('Phase [deg]');"
   ]
  },
  {
   "cell_type": "markdown",
   "id": "55b6894c",
   "metadata": {},
   "source": [
    "### 5. Perform IFFT modulation and add Cylcic prefix"
   ]
  },
  {
   "cell_type": "code",
   "execution_count": null,
   "id": "744e8523",
   "metadata": {},
   "outputs": [],
   "source": [
    "OFDMsimbol_t=np.fft.ifft(np.fft.ifftshift(OFDMsimbol_f), Nfft)\n",
    "\n",
    "# add cyclic prefix\n",
    "cp=OFDMsimbol_t[np.arange(Nfft-Ng, Nfft,dtype = 'int')] \n",
    "OFDMsimbol_t=np.concatenate((cp,OFDMsimbol_t)); \n",
    "\n",
    "It=np.real(OFDMsimbol_t); # in-phase component sent in time domain\n",
    "Qt=np.imag(OFDMsimbol_t); # quadrature-phase component sent in time domain\n",
    "\n",
    "t=np.arange(0,Nfft+Ng)/fs;\n",
    "\n",
    "iqSamplesFig = plt.figure()\n",
    "plt.subplot(2,1,1);\n",
    "plt.plot(t*10e6, It);\n",
    "plt.title('OFDM in-phase component I(t)');\n",
    "plt.xlabel('$t[\\mu s]$');\n",
    "plt.ylabel('Amplitude [db]');\n",
    "plt.subplot(2,1,2);\n",
    "plt.plot(t*10e6, Qt);\n",
    "plt.title('OFDM quad-phase component Q(t)');\n",
    "plt.xlabel('$t[\\mu s]$');\n",
    "plt.ylabel('Phase [deg]');\n",
    "\n",
    "plt.show()"
   ]
  }
 ],
 "metadata": {
  "kernelspec": {
   "display_name": "Python 3",
   "language": "python",
   "name": "python3"
  },
  "language_info": {
   "codemirror_mode": {
    "name": "ipython",
    "version": 3
   },
   "file_extension": ".py",
   "mimetype": "text/x-python",
   "name": "python",
   "nbconvert_exporter": "python",
   "pygments_lexer": "ipython3",
   "version": "3.7.10"
  }
 },
 "nbformat": 4,
 "nbformat_minor": 5
}
