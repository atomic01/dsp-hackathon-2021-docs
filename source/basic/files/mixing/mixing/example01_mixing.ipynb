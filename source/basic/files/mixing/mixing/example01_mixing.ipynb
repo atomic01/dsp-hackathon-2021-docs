{
 "cells": [
  {
   "cell_type": "markdown",
   "id": "4ea90b69",
   "metadata": {},
   "source": [
    "# Mixing Example"
   ]
  },
  {
   "cell_type": "markdown",
   "id": "019b637c",
   "metadata": {},
   "source": [
    "Ericsson Nikola Tesla - DSP Hackaton 2021"
   ]
  },
  {
   "cell_type": "markdown",
   "id": "6369a254",
   "metadata": {},
   "source": [
    "### 0. Imports"
   ]
  },
  {
   "cell_type": "code",
   "execution_count": null,
   "id": "10dcc4ed",
   "metadata": {},
   "outputs": [],
   "source": [
    "import math\n",
    "import numpy as np\n",
    "\n",
    "import matplotlib.pyplot as plt\n",
    "\n",
    "from scipy.fft import fft"
   ]
  },
  {
   "cell_type": "markdown",
   "id": "5aba76f8",
   "metadata": {},
   "source": [
    "### 1. Generate input cosine signal with little bit of noise and plot the amplitude spectrum"
   ]
  },
  {
   "cell_type": "code",
   "execution_count": null,
   "id": "612c8fef",
   "metadata": {},
   "outputs": [],
   "source": [
    "fs=1024 #sampling frequency \n",
    "N=1024 #number of samples of sine signal \n",
    "t=np.arange(0,N-1)/fs\n",
    "f0=32; #signal frequency\n",
    "\n",
    "x = np.cos(2 * np.pi * f0 * t)\n",
    "noise = np.random.normal(0, .1, x.shape)\n",
    "x = x + noise\n",
    "\n",
    "## Plot the time domain signal\n",
    "inputSignalFig = plt.figure();\n",
    "\n",
    "plt.stem(t,x)\n",
    "plt.xlabel(\"time[s]\")\n",
    "plt.ylabel(\"\")\n",
    "plt.title(\"Input signal\")"
   ]
  },
  {
   "cell_type": "markdown",
   "id": "ea54af8d",
   "metadata": {},
   "source": [
    "### 2. Plot the spectrum"
   ]
  },
  {
   "cell_type": "code",
   "execution_count": null,
   "id": "48276875",
   "metadata": {},
   "outputs": [],
   "source": [
    "Nfft=256\n",
    "deltaf=fs/Nfft\n",
    "f=np.fft.fftfreq(Nfft,1/fs)\n",
    "f=np.fft.fftshift(f) #frequency axis for FFT, as range [-fs/2,fs/2]\n",
    "\n",
    "X=np.fft.fft(x,Nfft)\n",
    "X=np.fft.fftshift(X)\n",
    "\n",
    "inputSpectrumFig = plt.figure()\n",
    "plt.plot(f,20*np.log10(np.abs(X)))\n",
    "plt.xlabel(\"f[Hz]\")\n",
    "plt.ylabel(\"Amplitude [dB]\")\n",
    "plt.title(\"Amplitude spectrum - input signal\")"
   ]
  },
  {
   "cell_type": "markdown",
   "id": "848e86be",
   "metadata": {},
   "source": [
    "### 3. Do the frequency upconversion with real mixer"
   ]
  },
  {
   "cell_type": "code",
   "execution_count": null,
   "id": "e2f7cd74",
   "metadata": {},
   "outputs": [],
   "source": [
    "fNCO=128\n",
    "xNCO=np.cos(2*np.pi*fNCO*t)\n",
    "xout1=np.multiply(xNCO,x);\n",
    "Xout1=np.fft.fftshift(np.fft.fft(xout1,Nfft));\n",
    "\n",
    "realUpconversionFig = plt.figure()\n",
    "plt.plot(f,20*np.log10(np.abs(Xout1)))\n",
    "plt.xlabel(\"f[Hz]\")\n",
    "plt.ylabel(\"Amplitude [dB]\")\n",
    "plt.title(\"Amplitude spectrum - real mixer upconversion\")"
   ]
  },
  {
   "cell_type": "markdown",
   "id": "a052436c",
   "metadata": {},
   "source": [
    "With real mixer, 4 spectral components will appear after the upconversion\n",
    "\n",
    "* fNCO+f0 ->  this one we usually need for further processing\n",
    "* fNCO-f0\n",
    "* -fNCO-f0\n",
    "* -fNCO+f0"
   ]
  },
  {
   "cell_type": "markdown",
   "id": "ce27ca9d",
   "metadata": {},
   "source": [
    "### 4. Do the frequency upconversion with complex mixer"
   ]
  },
  {
   "cell_type": "code",
   "execution_count": null,
   "id": "c0ca6b9e",
   "metadata": {},
   "outputs": [],
   "source": [
    "fNCO=128;\n",
    "xNCO=np.exp(1j*2*np.pi*fNCO*t);\n",
    "xout2=np.multiply(xNCO,x);\n",
    "Xout2=np.fft.fftshift(np.fft.fft(xout2,Nfft));\n",
    "\n",
    "cmplxUpconversionFig = plt.figure()\n",
    "plt.plot(f,20*np.log10(np.abs(Xout2)))\n",
    "plt.xlabel(\"f[Hz]\")\n",
    "plt.ylabel(\"Amplitude [dB]\")\n",
    "plt.title(\"Amplitude spectrum - complex mixer upconversion\")\n"
   ]
  },
  {
   "cell_type": "markdown",
   "id": "ecc44c89",
   "metadata": {},
   "source": [
    "With complex mixer, 2 spectral components will appear after the upconversion:\n",
    "* fNCO+f0 ->  this one we usually need for further processing\n",
    "* fNCO-f0"
   ]
  },
  {
   "cell_type": "code",
   "execution_count": null,
   "id": "88602ae8",
   "metadata": {},
   "outputs": [],
   "source": []
  }
 ],
 "metadata": {
  "kernelspec": {
   "display_name": "Python 3",
   "language": "python",
   "name": "python3"
  },
  "language_info": {
   "codemirror_mode": {
    "name": "ipython",
    "version": 3
   },
   "file_extension": ".py",
   "mimetype": "text/x-python",
   "name": "python",
   "nbconvert_exporter": "python",
   "pygments_lexer": "ipython3",
   "version": "3.7.10"
  }
 },
 "nbformat": 4,
 "nbformat_minor": 5
}
