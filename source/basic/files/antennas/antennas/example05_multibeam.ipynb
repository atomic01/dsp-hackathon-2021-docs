{
 "cells": [
  {
   "cell_type": "markdown",
   "id": "27df7fd2",
   "metadata": {},
   "source": [
    "# Multibeam generation and analysis"
   ]
  },
  {
   "cell_type": "markdown",
   "id": "f38966e9",
   "metadata": {},
   "source": [
    "Ericsson Nikola Tesla - DSP Hackaton 2021"
   ]
  },
  {
   "cell_type": "markdown",
   "id": "0782d32e",
   "metadata": {},
   "source": [
    "Want to radiate multiple beams? \n",
    "\n",
    "No problem. \n",
    "\n",
    "Due to linearity one can at the same time apply multiple current distributions with different linear\n",
    "phases giving rise to different beams at the same time (it is good to have a large enough array to have enough spatial resolution and to remain within Nyquist criterion).\n",
    "\n",
    "Note that this multibeam does not arise from aliasing but from the design\n",
    "of proper current distributions...\n",
    "\n",
    "This example shows how to generate beams at 60 and 120 degrees.The array\n",
    "factor and required current magnitudes are calculated and plotted."
   ]
  },
  {
   "cell_type": "markdown",
   "id": "365ea61a",
   "metadata": {},
   "source": [
    "### 0. Imports"
   ]
  },
  {
   "cell_type": "code",
   "execution_count": null,
   "id": "2ce097e0",
   "metadata": {},
   "outputs": [],
   "source": [
    "import math\n",
    "import numpy as np\n",
    "\n",
    "import matplotlib.pyplot as plt\n",
    "from scipy import special"
   ]
  },
  {
   "cell_type": "markdown",
   "id": "0b4fa3db",
   "metadata": {},
   "source": [
    "### 1. Normalized wavenumber space"
   ]
  },
  {
   "cell_type": "code",
   "execution_count": null,
   "id": "0cefbb5b",
   "metadata": {},
   "outputs": [],
   "source": [
    "# We take range -3:3 so that both visible and invisible ranges are seen\n",
    "#beta_z/beta = cos(theta)\n",
    "beta_n=np.linspace(-3,3,num=1201) \n",
    "\n",
    "#Setting the array parameters...\n",
    "\n",
    "d=0.5 #normalized distance in wavelength\n",
    "N=20 #Number of antenna elements\n",
    "L=N*d #total array length\n",
    "theta_0=np.array([120,60]) #desired angles of maximum radiation (in degrees)\n",
    "alpha_n=-np.cos(np.deg2rad(theta_0)) #required linear phase shift rate (normalized to beta)\n",
    "psi_n=beta_n*d+alpha_n[:,np.newaxis]*d #Auxiliary angle \\psi\n",
    "d1=psi_n*2*np.pi #Auxiliary variable (factor 2*pi is due to normalization!)\n",
    "\n",
    "#Initialization of array factor fields...\n",
    "AF = [0 for i in range(len(beta_n))]\n",
    "#AF_dB = [[None for i in beta_n] for j in theta_0]\n",
    "#The normalized array factor is taken in closed form (Dirichlet function):\n",
    "for x in range(len(theta_0)):\n",
    " AF+=special.diric (d1[x],N)\n",
    "\n",
    "AF_dB=20*np.log10(np.abs(AF))"
   ]
  },
  {
   "cell_type": "markdown",
   "id": "0326a9fd",
   "metadata": {},
   "source": [
    "### 2. Plotting case without aliasing"
   ]
  },
  {
   "cell_type": "code",
   "execution_count": null,
   "id": "8fe28b1c",
   "metadata": {},
   "outputs": [],
   "source": [
    "plt.figure(1)\n",
    "p1=plt.plot(beta_n, AF_dB, label= 'Beams at cos (theta) =+-1/2')\n",
    "leg=plt.legend()\n",
    "plt.axvline(x=-1,color='red',linestyle='--',label='Visible range boundary')\n",
    "plt.axvline(x=1,color='red',linestyle='--',label='Visible range boundary')\n",
    "plt.text(-0.9,-20,\"Visible region boundary\",rotation=90,color='red')\n",
    "plt.text(0.8,-20,\"Visible region boundary\",rotation=90,color='red')\n",
    "plt.xlim(min(beta_n), max(beta_n))\n",
    "plt.ylim(-30, 0)\n",
    "plt.grid()\n",
    "plt.title ('Normalized array factor in spectral domain')\n",
    "plt.xlabel(r'$\\beta_z/\\beta=cos(\\theta)$')\n",
    "plt.ylabel('Relative level [dB]')"
   ]
  },
  {
   "cell_type": "markdown",
   "id": "ae9b59fd",
   "metadata": {},
   "source": [
    "### 3. Extracting the visible region for generation of polar plot"
   ]
  },
  {
   "cell_type": "code",
   "execution_count": null,
   "id": "bc0cc5c5",
   "metadata": {},
   "outputs": [],
   "source": [
    "v_min = (np. where(beta_n == -1))[0][0]\n",
    "v_max = (np. where(beta_n == 1))[0][0]\n",
    "beta_v=beta_n[v_min:v_max]\n",
    "AFdB_v=AF_dB[v_min:v_max]\n",
    "theta=np.arccos(beta_v) #Transformation from spectral to angular (\\theta) domain"
   ]
  },
  {
   "cell_type": "markdown",
   "id": "d666bc30",
   "metadata": {},
   "source": [
    "### 4. Plot array factor (visible range) in polar graph "
   ]
  },
  {
   "cell_type": "code",
   "execution_count": null,
   "id": "5ca0f543",
   "metadata": {},
   "outputs": [],
   "source": [
    "fig = plt.figure(2)\n",
    "ax = fig.add_subplot(111, projection='polar')\n",
    "ax.set_thetamin(0)\n",
    "ax.set_thetamax(180)\n",
    "ax.set_theta_zero_location('N')\n",
    "ax.set_theta_direction(-1)\n",
    "ticks = np.linspace(0, np.pi, 7)\n",
    "ax.set_xticks(ticks)\n",
    "ax.set_rlim(-30,0)\n",
    "p4=plt.plot(theta, AFdB_v, label= 'Beams at angles theta of 60 and 120 deg.')\n",
    "leg=plt.legend()\n",
    "plt.title ('Normalized array factor in angular (theta) domain')\n",
    "plt.ylabel('Relative level [dB]')"
   ]
  },
  {
   "cell_type": "markdown",
   "id": "bc860b53",
   "metadata": {},
   "source": [
    "### 5. Calculation of current distribution at each antenna"
   ]
  },
  {
   "cell_type": "markdown",
   "id": "b41170a3",
   "metadata": {},
   "source": [
    "We need to sum contributions from each beam (total current is not uniform anymore)."
   ]
  },
  {
   "cell_type": "code",
   "execution_count": null,
   "id": "e21a5c76",
   "metadata": {},
   "outputs": [],
   "source": [
    "I = [0 for i in range(N)]\n",
    "M=len(alpha_n)\n",
    "\n",
    "for k in range(N):\n",
    "    for m in range (M):\n",
    "        I[k]+=np.exp(-1j*k*d*alpha_n[m])\n",
    "\n",
    "plt.figure(3)\n",
    "plt.subplot(2,1,1)\n",
    "plt.stem(np.abs(I/max(I)))\n",
    "plt.title('Beam indices - magnitudes')\n",
    "plt.grid()\n",
    "plt.xticks([0,4,9,14,19],[1,5,10,15,20])\n",
    "plt.xlabel('Antenna element number')\n",
    "plt.ylabel('Normalized current magnitude')\n",
    "\n",
    "plt.subplot(2,1,2)\n",
    "plt.stem(np.rad2deg(np.angle(I)))\n",
    "plt.title('Beam indices - phases')\n",
    "plt.xticks([0,4,9,14,19],[1,5,10,15,20])\n",
    "plt.grid()\n",
    "plt.xlabel('Antenna element number')\n",
    "plt.ylabel('Current phase')\n",
    "plt.subplots_adjust(hspace=0.8)\n",
    "\n",
    "plt.show()"
   ]
  },
  {
   "cell_type": "code",
   "execution_count": null,
   "id": "956880f7",
   "metadata": {},
   "outputs": [],
   "source": []
  }
 ],
 "metadata": {
  "kernelspec": {
   "display_name": "Python 3",
   "language": "python",
   "name": "python3"
  },
  "language_info": {
   "codemirror_mode": {
    "name": "ipython",
    "version": 3
   },
   "file_extension": ".py",
   "mimetype": "text/x-python",
   "name": "python",
   "nbconvert_exporter": "python",
   "pygments_lexer": "ipython3",
   "version": "3.7.10"
  }
 },
 "nbformat": 4,
 "nbformat_minor": 5
}
