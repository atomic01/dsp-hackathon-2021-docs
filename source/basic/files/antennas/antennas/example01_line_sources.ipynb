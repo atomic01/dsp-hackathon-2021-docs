{
 "cells": [
  {
   "cell_type": "markdown",
   "id": "79a05d81",
   "metadata": {},
   "source": [
    "# Spatial factor of a line source"
   ]
  },
  {
   "cell_type": "markdown",
   "id": "3f2387f9",
   "metadata": {},
   "source": [
    "Ericsson Nikola Tesla - DSP Hackaton 2021"
   ]
  },
  {
   "cell_type": "markdown",
   "id": "1394b8a7",
   "metadata": {},
   "source": [
    "Here we observe how the length of line source of length L affects the beamwidth (and hence spatial resolution).\n",
    "\n",
    "Broadside sources (uniform magnitude) are assumed here. We observe lengths of 2, 5 and 10 lambdas but one can play with them further..."
   ]
  },
  {
   "cell_type": "markdown",
   "id": "229f01a1",
   "metadata": {},
   "source": [
    "### 0. Imports"
   ]
  },
  {
   "cell_type": "code",
   "execution_count": null,
   "id": "49c7df3a",
   "metadata": {},
   "outputs": [],
   "source": [
    "import math\n",
    "import numpy as np\n",
    "\n",
    "import matplotlib.pyplot as plt\n",
    "from scipy import special"
   ]
  },
  {
   "cell_type": "markdown",
   "id": "d274d80e",
   "metadata": {},
   "source": [
    "### 1. Define a line source and find its radiation pattern (\"space factor\")"
   ]
  },
  {
   "cell_type": "code",
   "execution_count": null,
   "id": "b3ec84e4",
   "metadata": {},
   "outputs": [],
   "source": [
    "# Normalized wavenumber space\n",
    "# We take range -3:3 so that both visible and invisible ranges are seen\n",
    "#beta_z/beta = cos(theta)\n",
    "beta_n=np.linspace(-3,3,num=1201) \n",
    "\n",
    "#Normalized source length in units of lambda...\n",
    "L=np.array([2,5,10]) \n",
    "\n",
    "d1=L[:,np.newaxis]*beta_n*2*np.pi #Auxiliary variable (factor 2*pi is due to normalization!)\n",
    "\n",
    "#Initialization of space factor fields...\n",
    "SF = [[None for i in beta_n] for j in L]\n",
    "SF_dB = [[None for i in beta_n] for j in L]\n",
    "#The normalized array factor is taken in closed form (Dirichlet function):\n",
    "for x in range(len(L)):\n",
    " SF[x] =special.sinc(d1[x]/(2*np.pi))\n",
    "\n",
    "SF_dB=20*np.log10(np.abs(SF))"
   ]
  },
  {
   "cell_type": "markdown",
   "id": "95c10b73",
   "metadata": {},
   "source": [
    "### 2. Plot the spatial factor in spectral (beta_z) domain"
   ]
  },
  {
   "cell_type": "code",
   "execution_count": null,
   "id": "a22d9fc8",
   "metadata": {},
   "outputs": [],
   "source": [
    "plt.figure(1)\n",
    "p1=plt.plot(beta_n, SF_dB[0], label= r'$L=2*\\lambda$')\n",
    "p2=plt.plot(beta_n, SF_dB[1], label= r'$L=5*\\lambda$')\n",
    "p3=plt.plot(beta_n, SF_dB[2], label= r'$L=10*\\lambda$')\n",
    "plt.legend()\n",
    "plt.axvline(x=-1,color='red',linestyle='--',label='Visible range boundary')\n",
    "plt.axvline(x=1,color='red',linestyle='--',label='Visible range boundary')\n",
    "plt.text(-0.9,-20,\"Visible region boundary\",rotation=90,color='red')\n",
    "plt.text(0.8,-20,\"Visible region boundary\",rotation=90,color='red')\n",
    "plt.xlim(min(beta_n), max(beta_n))\n",
    "plt.ylim(-30, 0)\n",
    "plt.grid()\n",
    "plt.title ('Normalized pattern in spectral domain - line source')\n",
    "plt.xlabel(r'$\\beta_z/\\beta=cos(\\theta)$')\n",
    "plt.ylabel('Relative level [dB]')"
   ]
  },
  {
   "cell_type": "markdown",
   "id": "d6ae40d2",
   "metadata": {},
   "source": [
    "### 3. Extracting the visible region for generation of polar plot"
   ]
  },
  {
   "cell_type": "code",
   "execution_count": null,
   "id": "9b786d2b",
   "metadata": {},
   "outputs": [],
   "source": [
    "v_min = (np. where(beta_n == -1))[0][0]\n",
    "v_max = (np. where(beta_n == 1))[0][0]\n",
    "beta_v=beta_n[v_min:v_max]\n",
    "SFdB_v=SF_dB[:,v_min:v_max]\n",
    "theta=np.arccos(beta_v) #Transformation from spectral to angular (\\theta) domain\n",
    "\n",
    "# Now we plot space factor (pattern) in polar graph - i.e. in angular domain\n",
    "\n",
    "fig = plt.figure(2)\n",
    "ax = fig.add_subplot(111, projection='polar')\n",
    "ax.set_thetamin(0)\n",
    "ax.set_thetamax(180)\n",
    "ax.set_theta_zero_location('N')\n",
    "ax.set_theta_direction(-1)\n",
    "ticks = np.linspace(0, np.pi, 7)\n",
    "ax.set_xticks(ticks)\n",
    "ax.set_rlim(-30,0)\n",
    "p4=plt.plot(theta, SFdB_v[0], label= r'$L=2*\\lambda$')\n",
    "p5=plt.plot(theta, SFdB_v[1], label= r'$L=5*\\lambda$')\n",
    "p6=plt.plot(theta, SFdB_v[2], label= r'$L=10*\\lambda$')\n",
    "leg=plt.legend()\n",
    "plt.title ('Normalized pattern in angular domain (theta-plane)')\n",
    "plt.ylabel('Relative level [dB]')\n",
    "\n",
    "plt.show()"
   ]
  }
 ],
 "metadata": {
  "kernelspec": {
   "display_name": "Python 3",
   "language": "python",
   "name": "python3"
  },
  "language_info": {
   "codemirror_mode": {
    "name": "ipython",
    "version": 3
   },
   "file_extension": ".py",
   "mimetype": "text/x-python",
   "name": "python",
   "nbconvert_exporter": "python",
   "pygments_lexer": "ipython3",
   "version": "3.7.10"
  }
 },
 "nbformat": 4,
 "nbformat_minor": 5
}
