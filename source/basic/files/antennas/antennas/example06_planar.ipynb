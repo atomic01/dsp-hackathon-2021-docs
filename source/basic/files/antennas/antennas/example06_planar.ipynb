{
 "cells": [
  {
   "cell_type": "markdown",
   "id": "d0fce4f8",
   "metadata": {},
   "source": [
    "# Planar array - array factor"
   ]
  },
  {
   "cell_type": "markdown",
   "id": "56890537",
   "metadata": {},
   "source": [
    "Ericsson Nikola Tesla - DSP Hackaton 2021"
   ]
  },
  {
   "cell_type": "markdown",
   "id": "7d8647dd",
   "metadata": {},
   "source": [
    "We have seen that with linear arrays we can steer the beam in one plane only.\n",
    "\n",
    "With planar arrays we can achieve full 3D scan.\n",
    "\n",
    "We show the example of planar array with rectangular grid which acts as a product of two\n",
    "linear arrays in x- and y-direction.\n",
    "\n",
    "We calculate the two 1D (linear) array factors in spectral domain and take their product to obtain 2D\n",
    "array factor (we choose distances of lambda/2 to remain within Nyquist criterion)."
   ]
  },
  {
   "cell_type": "markdown",
   "id": "2ecf8e42",
   "metadata": {},
   "source": [
    "### 0. Imports"
   ]
  },
  {
   "cell_type": "code",
   "execution_count": null,
   "id": "0b17c497",
   "metadata": {},
   "outputs": [],
   "source": [
    "import math\n",
    "from matplotlib.colors import Colormap\n",
    "import numpy as np\n",
    "\n",
    "import matplotlib.pyplot as plt\n",
    "from scipy import special"
   ]
  },
  {
   "cell_type": "markdown",
   "id": "fa957c1e",
   "metadata": {},
   "source": [
    "### 1. Calculations"
   ]
  },
  {
   "cell_type": "code",
   "execution_count": null,
   "id": "dabde18e",
   "metadata": {},
   "outputs": [],
   "source": [
    "# We take range -3:3 so that both visible and invisible ranges are seen\n",
    "#beta_z/beta = cos(theta)\n",
    "betax_n=np.linspace(-3,3,num=1201) \n",
    "betay_n=np.linspace(-3,3,num=1201) \n",
    "\n",
    "#creating 2D wavenumber space (for plotting the surf plot)\n",
    "XX,YY=np.meshgrid(betax_n,betay_n)\n",
    "\n",
    "#Setting the array parameters in x- and y- direction\n",
    "\n",
    "dx=0.5 #normalized distance in wavelength (in x-direction)\n",
    "dy=0.5  #normalized distance in wavelength (in y-direction)\n",
    "M=10  #Number of antenna elements in X\n",
    "N=5  #Number of antenna elements in Y\n",
    "\n",
    "# Setting desired angles of maximum for beam steering(we choose broadside direction)\n",
    "#This gives us beamforming capability\n",
    "\n",
    "theta_0=0 # In this coordinates broadside appears at \\theta=0!\n",
    "phi_0=90 #This becomes interesting when we move from broadside\n",
    "\n",
    "#Calculating required linear phase shift rates both in x- and y-direction(normalized to beta)\n",
    "\n",
    "alphax_n=-np.sin(np.deg2rad(theta_0))*np.cos(np.deg2rad(phi_0))\n",
    "alphay_n=-np.sin(np.deg2rad(theta_0))*np.sin(np.deg2rad(phi_0))\n",
    "\n",
    "psix_n=XX*dx+alphax_n*dx; #auxiliary angles for array factor calculations (in X)\n",
    "psiy_n=YY*dy+alphay_n*dy; #auxiliary angles for array factor calculations (in Y)\n",
    "\n",
    "d1_x=psix_n*2*np.pi #Auxiliary variable in x \n",
    "d1_y=psiy_n*2*np.pi #Auxiliary variable in y (factor 2*pi is due to normalization...)\n",
    "\n",
    "#The normalized array factor is taken in closed form (Dirichlet function):\n",
    "# Array factor in X...\n",
    "AFx =special.diric (d1_x,M)  #normalized array factor of array \n",
    "AFx_dB=20*np.log10(np.abs(AFx))\n",
    "\n",
    "AFy =special.diric (d1_y,N)  #normalized array factor of array\n",
    "AFy_dB=20*np.log10(np.abs(AFy))"
   ]
  },
  {
   "cell_type": "markdown",
   "id": "dbbea3c7",
   "metadata": {},
   "source": [
    "### 2. Plotting array factors in spectral domains (x-direction)"
   ]
  },
  {
   "cell_type": "code",
   "execution_count": null,
   "id": "58f49aa1",
   "metadata": {},
   "outputs": [],
   "source": [
    "plt.figure(1)\n",
    "p1=plt.plot(betax_n, AFx_dB[0,:])\n",
    "plt.axvline(x=-1,color='red',linestyle='--',label='Visible range boundary')\n",
    "plt.axvline(x=1,color='red',linestyle='--',label='Visible range boundary')\n",
    "plt.text(-0.9,-20,\"Visible region boundary\",rotation=90,color='red')\n",
    "plt.text(0.8,-20,\"Visible region boundary\",rotation=90,color='red')\n",
    "plt.xlim(min(betax_n), max(betax_n))\n",
    "plt.ylim(-30, 0)\n",
    "plt.grid()\n",
    "plt.title ('X-direction - spectral domain')\n",
    "plt.xlabel(r'$\\beta_x/\\beta=sin(\\theta)\\cdot cos(\\phi)$')\n",
    "plt.ylabel('Relative level [dB]')"
   ]
  },
  {
   "cell_type": "markdown",
   "id": "0475134d",
   "metadata": {},
   "source": [
    "### 3. Plotting array factors in spectral domains (y-direction)"
   ]
  },
  {
   "cell_type": "code",
   "execution_count": null,
   "id": "f7bca879",
   "metadata": {},
   "outputs": [],
   "source": [
    "plt.figure(2)\n",
    "p2=plt.plot(betay_n, AFy_dB[:,0])\n",
    "plt.axvline(x=-1,color='red',linestyle='--',label='Visible range boundary')\n",
    "plt.axvline(x=1,color='red',linestyle='--',label='Visible range boundary')\n",
    "plt.text(-0.9,-20,\"Visible region boundary\",rotation=90,color='red')\n",
    "plt.text(0.8,-20,\"Visible region boundary\",rotation=90,color='red')\n",
    "plt.xlim(min(betay_n), max(betay_n))\n",
    "plt.ylim(-30, 0)\n",
    "plt.grid()\n",
    "plt.title ('Y-direction - spectral domain')\n",
    "plt.xlabel(r'$\\beta_y/\\beta=sin(\\theta)\\cdot sin(\\phi)$')\n",
    "plt.ylabel('Relative level [dB]')"
   ]
  },
  {
   "cell_type": "markdown",
   "id": "bd6a4665",
   "metadata": {},
   "source": [
    "### 4. Calculation of 2D spectral domain array factor as a product of two linear array factors"
   ]
  },
  {
   "cell_type": "code",
   "execution_count": null,
   "id": "31308533",
   "metadata": {},
   "outputs": [],
   "source": [
    "AF_tot=AFx*AFy\n",
    "AFtot_dB=20*np.log10(np.abs(AF_tot))\n",
    "np.clip(AFtot_dB,-40,0,out=AFtot_dB) #clipping the unnecessary data below -40 dB"
   ]
  },
  {
   "cell_type": "code",
   "execution_count": null,
   "id": "b954f4bd",
   "metadata": {},
   "outputs": [],
   "source": [
    "#Parameters of unit circle which defines visible region in 2D case\n",
    "th=np.linspace (0,2*np.pi,1001)\n",
    "x=np.cos(th)\n",
    "y=np.sin(th)"
   ]
  },
  {
   "cell_type": "markdown",
   "id": "b69c5718",
   "metadata": {},
   "source": [
    "### 5. Plotting the array factor in 2D spectral domain (beta_x beta_y)"
   ]
  },
  {
   "cell_type": "code",
   "execution_count": null,
   "id": "f90d82f6",
   "metadata": {},
   "outputs": [],
   "source": [
    "plt.figure(3)\n",
    "p3= plt.contourf(XX,YY,AFtot_dB,cmap=plt.cm.bone)\n",
    "#Adding unit circle as a visible region boundary\n",
    "p3a=plt.plot(x,y,color='red',linestyle='--',label='Visible range' )\n",
    "#Setting other plot parameters\n",
    "plt.text(-1,1.2,\"Visible region\",rotation=0,color='red')\n",
    "plt.gca().set_aspect(\"equal\")\n",
    "cbar = plt.colorbar()\n",
    "cbar.set_label('Relative level [dB]', rotation=90)\n",
    "plt.title ('Planar array - 2D spectral domain')\n",
    "plt.xlabel(r'$\\beta_x/\\beta=sin(\\theta)\\cdot cos(\\phi)$')\n",
    "plt.ylabel(r'$\\beta_y/\\beta=sin(\\theta)\\cdot sin(\\phi)$')\n",
    "\n",
    "plt.show()"
   ]
  }
 ],
 "metadata": {
  "kernelspec": {
   "display_name": "Python 3",
   "language": "python",
   "name": "python3"
  },
  "language_info": {
   "codemirror_mode": {
    "name": "ipython",
    "version": 3
   },
   "file_extension": ".py",
   "mimetype": "text/x-python",
   "name": "python",
   "nbconvert_exporter": "python",
   "pygments_lexer": "ipython3",
   "version": "3.7.10"
  }
 },
 "nbformat": 4,
 "nbformat_minor": 5
}
