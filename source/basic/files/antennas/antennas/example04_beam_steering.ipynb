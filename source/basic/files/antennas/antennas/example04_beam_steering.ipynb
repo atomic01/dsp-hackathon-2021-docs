{
 "cells": [
  {
   "cell_type": "markdown",
   "id": "1d3e3f9d",
   "metadata": {},
   "source": [
    "# Linear phase shift - beam steering"
   ]
  },
  {
   "cell_type": "markdown",
   "id": "d621e9c4",
   "metadata": {},
   "source": [
    "Ericsson Nikola Tesla - DSP Hackaton 2021"
   ]
  },
  {
   "cell_type": "markdown",
   "id": "60d98299",
   "metadata": {},
   "source": [
    "Here we observe the effect of adding the progressive phase shift alpha*d\n",
    "along the array. \n",
    "\n",
    "Within visible region we will see how the spectrum  i.e. the array factor) moves along normalized beta_z axis. \n",
    "\n",
    "The array is discretized with distance of lambda/2 (Nyquist criterion)"
   ]
  },
  {
   "cell_type": "markdown",
   "id": "7a29d0c2",
   "metadata": {},
   "source": [
    "### 0. Imports"
   ]
  },
  {
   "cell_type": "code",
   "execution_count": null,
   "id": "b9f2276d",
   "metadata": {},
   "outputs": [],
   "source": [
    "import math\n",
    "import numpy as np\n",
    "\n",
    "import matplotlib.pyplot as plt\n",
    "from scipy import special"
   ]
  },
  {
   "cell_type": "markdown",
   "id": "18063ce6",
   "metadata": {},
   "source": [
    "### 1. Normalized wavenumber space"
   ]
  },
  {
   "cell_type": "code",
   "execution_count": null,
   "id": "24d108ad",
   "metadata": {},
   "outputs": [],
   "source": [
    "# We take range -3:3 so that both visible and invisible ranges are seen\n",
    "#beta_z/beta = cos(theta)\n",
    "beta_n=np.linspace(-3,3,num=1201) \n",
    "\n",
    "#Setting the array parameters...\n",
    "\n",
    "d=0.5 #normalized distance in wavelength\n",
    "N=20 #Number of antenna elements\n",
    "L=N*d #total array length\n",
    "theta_0=np.array([120,90,45]) #desired angles of maximum radiation (in degrees)\n",
    "alpha_n=-np.cos(np.deg2rad(theta_0)) #required linear phase shift rate (normalized to beta)\n",
    "psi_n=beta_n*d+alpha_n[:,np.newaxis]*d #Auxiliary angle \\psi\n",
    "d1=psi_n*2*np.pi #Auxiliary variable (factor 2*pi is due to normalization!)...\n",
    "\n",
    "\n",
    "#Initialization of array factor fields...\n",
    "AF = [[None for i in beta_n] for j in theta_0]\n",
    "AF_dB = [[None for i in beta_n] for j in theta_0]\n",
    "#The normalized array factor is taken in closed form (Dirichlet function):\n",
    "for x in range(len(theta_0)):\n",
    " AF[x] =special.diric (d1[x],N)\n",
    "\n",
    "AF_dB=20*np.log10(np.abs(AF))"
   ]
  },
  {
   "cell_type": "markdown",
   "id": "48b373a8",
   "metadata": {},
   "source": [
    "### 2. Plotting case without aliasing"
   ]
  },
  {
   "cell_type": "code",
   "execution_count": null,
   "id": "bb350eb5",
   "metadata": {},
   "outputs": [],
   "source": [
    "plt.figure(1)\n",
    "p1=plt.plot(beta_n, AF_dB[0], label= r'$\\theta_0$=120 deg.')\n",
    "p2=plt.plot(beta_n, AF_dB[1], label= r'$\\theta_0$=90 deg.')\n",
    "p3=plt.plot(beta_n, AF_dB[2], label= r'$\\theta_0$=45 deg.')\n",
    "leg=plt.legend()\n",
    "plt.axvline(x=-1,color='red',linestyle='--',label='Visible range boundary')\n",
    "plt.axvline(x=1,color='red',linestyle='--',label='Visible range boundary')\n",
    "plt.text(-0.9,-20,\"Visible region boundary\",rotation=90,color='red')\n",
    "plt.text(0.8,-20,\"Visible region boundary\",rotation=90,color='red')\n",
    "plt.xlim(min(beta_n), max(beta_n))\n",
    "plt.ylim(-30, 0)\n",
    "plt.grid()\n",
    "plt.title ('Normalized array factor in spectral domain')\n",
    "plt.xlabel(r'$\\beta_z/\\beta=cos(\\theta)$')\n",
    "plt.ylabel('Relative level [dB]')"
   ]
  },
  {
   "cell_type": "markdown",
   "id": "e22927d2",
   "metadata": {},
   "source": [
    "### 3. Extracting the visible region for generation of polar plot"
   ]
  },
  {
   "cell_type": "code",
   "execution_count": null,
   "id": "7f25463b",
   "metadata": {},
   "outputs": [],
   "source": [
    "v_min = (np. where(beta_n == -1))[0][0]\n",
    "v_max = (np. where(beta_n == 1))[0][0]\n",
    "beta_v=beta_n[v_min:v_max]\n",
    "AFdB_v=AF_dB[:,v_min:v_max]\n",
    "theta=np.arccos(beta_v) #Transformation from spectral to angular (\\theta) domain"
   ]
  },
  {
   "cell_type": "markdown",
   "id": "7c02e31b",
   "metadata": {},
   "source": [
    "### 4. Plot array factor (visible range) in polar graph "
   ]
  },
  {
   "cell_type": "code",
   "execution_count": null,
   "id": "276fe2d2",
   "metadata": {},
   "outputs": [],
   "source": [
    "fig = plt.figure(2)\n",
    "ax = fig.add_subplot(111, projection='polar')\n",
    "ax.set_thetamin(0)\n",
    "ax.set_thetamax(180)\n",
    "ax.set_theta_zero_location('N')\n",
    "ax.set_theta_direction(-1)\n",
    "ticks = np.linspace(0, np.pi, 7)\n",
    "ax.set_xticks(ticks)\n",
    "ax.set_rlim(-30,0)\n",
    "p4=plt.plot(theta, AFdB_v[0], label= r'$\\theta_0$=120 deg.')\n",
    "p5=plt.plot(theta, AFdB_v[1], label= r'$\\theta_0$=90 deg.')\n",
    "p6=plt.plot(theta, AFdB_v[2], label= r'$\\theta_0$=45 deg.')\n",
    "leg=plt.legend()\n",
    "plt.title ('Normalized array factor in angular (theta) domain')\n",
    "plt.ylabel('Relative level [dB]')\n",
    "\n",
    "plt.show()"
   ]
  }
 ],
 "metadata": {
  "kernelspec": {
   "display_name": "Python 3",
   "language": "python",
   "name": "python3"
  },
  "language_info": {
   "codemirror_mode": {
    "name": "ipython",
    "version": 3
   },
   "file_extension": ".py",
   "mimetype": "text/x-python",
   "name": "python",
   "nbconvert_exporter": "python",
   "pygments_lexer": "ipython3",
   "version": "3.7.10"
  }
 },
 "nbformat": 4,
 "nbformat_minor": 5
}
