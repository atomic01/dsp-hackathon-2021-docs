{
 "cells": [
  {
   "cell_type": "markdown",
   "id": "2c9221a8",
   "metadata": {},
   "source": [
    "# Discretization of line source"
   ]
  },
  {
   "cell_type": "markdown",
   "id": "7870242b",
   "metadata": {},
   "source": [
    "Ericsson Nikola Tesla - DSP Hackaton 2021"
   ]
  },
  {
   "cell_type": "markdown",
   "id": "4c62dbcb",
   "metadata": {},
   "source": [
    "The total length of line source when discretized would correspond to total array length (L=N*d).\n",
    "\n",
    "If discretized by Nyquist criterium, we would also see that in visible region the array factor corresponds to the space factor of the line source."
   ]
  },
  {
   "cell_type": "markdown",
   "id": "ad5e7223",
   "metadata": {},
   "source": [
    "### 0. Imports"
   ]
  },
  {
   "cell_type": "code",
   "execution_count": null,
   "id": "1b3b4a65",
   "metadata": {},
   "outputs": [],
   "source": [
    "import math\n",
    "import numpy as np\n",
    "\n",
    "import matplotlib.pyplot as plt\n",
    "from scipy import special"
   ]
  },
  {
   "cell_type": "markdown",
   "id": "364e9fea",
   "metadata": {},
   "source": [
    "### 1. Define a line source and find its radiation pattern (\"space factor\")"
   ]
  },
  {
   "cell_type": "code",
   "execution_count": null,
   "id": "6ccb1e92",
   "metadata": {},
   "outputs": [],
   "source": [
    "# Normalized wavenumber space\n",
    "# We take range -3:3 so that both visible and invisible ranges are seen\n",
    "#beta_z/beta = cos(theta)\n",
    "beta_n=np.linspace(-3,3,num=1201) \n",
    "\n",
    "#Normalized source length in units of lambda...\n",
    "L=np.array([2,5,10]) \n",
    "\n",
    "#Discretizing line source with N samples within Nyquist criterion...\n",
    "N=np.array([4,10,20]) #numbers of antenna elements\n",
    "\n",
    "d=np.divide(L,N) #Fixed distance of \\lambda/2\n",
    "\n",
    "d1=d[:,np.newaxis]*beta_n*2*np.pi #Auxiliary variable (factor 2*pi is due to normalization!)\n",
    "\n",
    "#Initialization of space factor fields...\n",
    "AF = [[None for i in beta_n] for j in L]\n",
    "AF_dB = [[None for i in beta_n] for j in L]\n",
    "\n",
    "#The normalized array factor is taken in closed form (Dirichlet function):\n",
    "for x in range(len(d)):\n",
    " AF[x] =special.diric (d1[x],N[x])\n",
    "\n",
    "AF_dB=20*np.log10(np.abs(AF))"
   ]
  },
  {
   "cell_type": "markdown",
   "id": "41cd6c67",
   "metadata": {},
   "source": [
    "### 2. Plot the spatial factor in spectral (beta_z) domain"
   ]
  },
  {
   "cell_type": "code",
   "execution_count": null,
   "id": "936f4916",
   "metadata": {},
   "outputs": [],
   "source": [
    "plt.figure(1)\n",
    "p1=plt.plot(beta_n, AF_dB[0], label= 'N=4')\n",
    "p2=plt.plot(beta_n, AF_dB[1], label= 'N=10')\n",
    "p3=plt.plot(beta_n, AF_dB[2], label= 'N=20')\n",
    "plt.legend()\n",
    "plt.axvline(x=-1,color='red',linestyle='--',label='Visible range boundary')\n",
    "plt.axvline(x=1,color='red',linestyle='--',label='Visible range boundary')\n",
    "plt.text(-0.9,-20,\"Visible region boundary\",rotation=90,color='red')\n",
    "plt.text(0.8,-20,\"Visible region boundary\",rotation=90,color='red')\n",
    "plt.xlim(min(beta_n), max(beta_n))\n",
    "plt.ylim(-30, 0)\n",
    "plt.grid()\n",
    "plt.title ('Normalized array factor in spectral domain')\n",
    "plt.xlabel(r'$\\beta_z/\\beta=cos(\\theta)$')\n",
    "plt.ylabel('Relative level [dB]')\n",
    "\n",
    "##Extracting the visible region for generation of polar plot\n",
    "v_min = (np. where(beta_n == -1))[0][0]\n",
    "v_max = (np. where(beta_n == 1))[0][0]\n",
    "beta_v=beta_n[v_min:v_max]\n",
    "AFdB_v=AF_dB[:,v_min:v_max]\n",
    "theta=np.arccos(beta_v) #Transformation from spectral to angular (\\theta) domain"
   ]
  },
  {
   "cell_type": "markdown",
   "id": "fd33c36e",
   "metadata": {},
   "source": [
    "### 3. Plot the space factor (pattern) in polar graph - i.e. in angular domain"
   ]
  },
  {
   "cell_type": "code",
   "execution_count": null,
   "id": "64ffb034",
   "metadata": {},
   "outputs": [],
   "source": [
    "fig = plt.figure(2)\n",
    "ax = fig.add_subplot(111, projection='polar')\n",
    "ax.set_thetamin(0)\n",
    "ax.set_thetamax(180)\n",
    "ax.set_theta_zero_location('N')\n",
    "ax.set_theta_direction(-1)\n",
    "ticks = np.linspace(0, np.pi, 7)\n",
    "ax.set_xticks(ticks)\n",
    "ax.set_rlim(-30,0)\n",
    "p4=plt.plot(theta, AFdB_v[0], label= 'N=4')\n",
    "p5=plt.plot(theta, AFdB_v[1], label= 'N=10')\n",
    "p6=plt.plot(theta, AFdB_v[2], label= 'N=20')\n",
    "leg=plt.legend()\n",
    "plt.title ('Normalized array factor in angular (theta) domain')\n",
    "plt.ylabel('Relative level [dB]')\n",
    "\n",
    "plt.show()"
   ]
  }
 ],
 "metadata": {
  "kernelspec": {
   "display_name": "Python 3",
   "language": "python",
   "name": "python3"
  },
  "language_info": {
   "codemirror_mode": {
    "name": "ipython",
    "version": 3
   },
   "file_extension": ".py",
   "mimetype": "text/x-python",
   "name": "python",
   "nbconvert_exporter": "python",
   "pygments_lexer": "ipython3",
   "version": "3.7.10"
  }
 },
 "nbformat": 4,
 "nbformat_minor": 5
}
