{
 "cells": [
  {
   "cell_type": "markdown",
   "id": "782b2d32",
   "metadata": {},
   "source": [
    "# Aliasing in spectral domain - grating lobes"
   ]
  },
  {
   "cell_type": "markdown",
   "id": "47355f0f",
   "metadata": {},
   "source": [
    "Ericsson Nikola Tesla - DSP Hackaton 2021"
   ]
  },
  {
   "cell_type": "markdown",
   "id": "ae47151a",
   "metadata": {},
   "source": [
    "We observe the effect of aliasing, which occurs when the line source distance is larger than  lambda/2.\n",
    "\n",
    "In that case the spectral images from discretization come into visible region and grating lobes would occur at ome angles. \n",
    "\n",
    "The \"safest\" direction from aliasing is the broadside one  nd it tolerates the distances of up to lambda.\n",
    "\n",
    "In this example we fix the array total length to 6*lambda.We reduce the number of elements from 12 (Nyquist distance lambda/2) to 8 and 4 and bserve how the grating lobe arrives into visible region."
   ]
  },
  {
   "cell_type": "markdown",
   "id": "fef35b17",
   "metadata": {},
   "source": [
    "### 0. Imports"
   ]
  },
  {
   "cell_type": "code",
   "execution_count": null,
   "id": "3c76c538",
   "metadata": {},
   "outputs": [],
   "source": [
    "import math\n",
    "import numpy as np\n",
    "\n",
    "import matplotlib.pyplot as plt\n",
    "from scipy import special"
   ]
  },
  {
   "cell_type": "markdown",
   "id": "18065493",
   "metadata": {},
   "source": [
    "### 1. Normalized wavenumber space"
   ]
  },
  {
   "cell_type": "code",
   "execution_count": null,
   "id": "af70ebd0",
   "metadata": {},
   "outputs": [],
   "source": [
    "# We take range -3:3 so that both visible and invisible ranges are seen\n",
    "#beta_z/beta = cos(theta)\n",
    "beta_n=np.linspace(-3,3,num=1201) \n",
    "\n",
    "#Setting the array parameters...\n",
    "\n",
    "L=6 #total array length (normalized to wavelength)\n",
    "N=np.array([12,8,4]) #numbers of antenna elements\n",
    "d=np.divide(L,N)# distance between antennas\n",
    "d1=d [:,np.newaxis]*beta_n*2*np.pi # Auxiliary variable (factor 2*pi is due to normalization!)\n",
    "\n",
    "\n",
    "#Initialization of array factor fields...\n",
    "AF = [[None for i in beta_n] for j in d]\n",
    "AF_dB = [[None for i in beta_n] for j in d]\n",
    "#The normalized array factor is taken in closed form (Dirichlet function):\n",
    "for x in range(len(d)):\n",
    " AF[x] =special.diric (d1[x],N[x])\n",
    "\n",
    "AF_dB=20*np.log10(np.abs(AF))"
   ]
  },
  {
   "cell_type": "markdown",
   "id": "ce7f3089",
   "metadata": {},
   "source": [
    "### 2. Plotting case without aliasing"
   ]
  },
  {
   "cell_type": "markdown",
   "id": "84b51080",
   "metadata": {},
   "source": [
    "We plot the array factors for observed cases separately to ensure visibility."
   ]
  },
  {
   "cell_type": "code",
   "execution_count": null,
   "id": "265b531e",
   "metadata": {},
   "outputs": [],
   "source": [
    "plt.figure(1)\n",
    "p1=plt.plot(beta_n, AF_dB[0])\n",
    "plt.legend(['d=0.5 $\\lambda$ - no aliasing'])\n",
    "plt.axvline(x=-1,color='red',linestyle='--',label='Visible range boundary')\n",
    "plt.axvline(x=1,color='red',linestyle='--',label='Visible range boundary')\n",
    "plt.text(-0.9,-20,\"Visible region boundary\",rotation=90,color='red')\n",
    "plt.text(0.8,-20,\"Visible region boundary\",rotation=90,color='red')\n",
    "plt.xlim(min(beta_n), max(beta_n))\n",
    "plt.ylim(-30, 0)\n",
    "plt.grid()\n",
    "plt.title ('Normalized array factor in spectral domain')\n",
    "plt.xlabel(r'$\\beta_z/\\beta=cos(\\theta)$')\n",
    "plt.ylabel('Relative level [dB]')"
   ]
  },
  {
   "cell_type": "markdown",
   "id": "d68a1fdd",
   "metadata": {},
   "source": [
    "### 3. Plotting case with aliasing but not \"strong\" enough to bring grating lobe"
   ]
  },
  {
   "cell_type": "code",
   "execution_count": null,
   "id": "cb3a62af",
   "metadata": {},
   "outputs": [],
   "source": [
    "plt.figure(2)\n",
    "p1=plt.plot(beta_n, AF_dB[1])\n",
    "plt.legend(['d=0.75 $\\lambda$ - aliasing but no visible grating lobes'])\n",
    "plt.axvline(x=-1,color='red',linestyle='--',label='Visible range boundary')\n",
    "plt.axvline(x=1,color='red',linestyle='--',label='Visible range boundary')\n",
    "plt.text(-0.9,-20,\"Visible region boundary\",rotation=90,color='red')\n",
    "plt.text(0.8,-20,\"Visible region boundary\",rotation=90,color='red')\n",
    "plt.xlim(min(beta_n), max(beta_n))\n",
    "plt.ylim(-30, 0)\n",
    "plt.grid()\n",
    "plt.title ('Normalized array factor in spectral domain')\n",
    "plt.xlabel(r'$\\beta_z/\\beta=cos(\\theta)$')\n",
    "plt.ylabel('Relative level [dB]')"
   ]
  },
  {
   "cell_type": "markdown",
   "id": "d2328c9e",
   "metadata": {},
   "source": [
    "### 4. Plotting case with aliasing and grating lobe in visible region"
   ]
  },
  {
   "cell_type": "code",
   "execution_count": null,
   "id": "5e43e33f",
   "metadata": {},
   "outputs": [],
   "source": [
    "plt.figure(3)\n",
    "p1=plt.plot(beta_n, AF_dB[2])\n",
    "plt.legend(['d=1.5 $\\lambda$ - aliasing & visible grating lobes'])\n",
    "plt.axvline(x=-1,color='red',linestyle='--',label='Visible range boundary')\n",
    "plt.axvline(x=1,color='red',linestyle='--',label='Visible range boundary')\n",
    "plt.text(-0.9,-20,\"Visible region boundary\",rotation=90,color='red')\n",
    "plt.text(0.8,-20,\"Visible region boundary\",rotation=90,color='red')\n",
    "plt.xlim(min(beta_n), max(beta_n))\n",
    "plt.ylim(-30, 0)\n",
    "plt.grid()\n",
    "plt.title ('Normalized array factor in spectral domain')\n",
    "plt.xlabel(r'$\\beta_z/\\beta=cos(\\theta)$')\n",
    "plt.ylabel('Relative level [dB]')"
   ]
  },
  {
   "cell_type": "markdown",
   "id": "e5dd10be",
   "metadata": {},
   "source": [
    "### 5. Extracting the visible region for generation of polar plot"
   ]
  },
  {
   "cell_type": "code",
   "execution_count": null,
   "id": "27b50ae8",
   "metadata": {},
   "outputs": [],
   "source": [
    "v_min = (np. where(beta_n == -1))[0][0]\n",
    "v_max = (np. where(beta_n == 1))[0][0]\n",
    "beta_v=beta_n[v_min:v_max]\n",
    "AFdB_v=AF_dB[:,v_min:v_max]\n",
    "theta=np.arccos(beta_v) #Transformation from spectral to angular domain"
   ]
  },
  {
   "cell_type": "markdown",
   "id": "fe6e2742",
   "metadata": {},
   "source": [
    "### 6. Plotting case without aliasing"
   ]
  },
  {
   "cell_type": "code",
   "execution_count": null,
   "id": "d55674e9",
   "metadata": {},
   "outputs": [],
   "source": [
    "fig = plt.figure(4)\n",
    "ax = fig.add_subplot(111, projection='polar')\n",
    "ax.set_thetamin(0)\n",
    "ax.set_thetamax(180)\n",
    "ax.set_theta_zero_location('N')\n",
    "ax.set_theta_direction(-1)\n",
    "ticks = np.linspace(0, np.pi, 7)\n",
    "ax.set_xticks(ticks)\n",
    "ax.set_rlim(-30,0)\n",
    "plt.plot(theta,AFdB_v [0])\n",
    "plt.legend(['d=0.5 $\\lambda$ - no aliasing'])\n",
    "plt.title ('Normalized array factor in angular (theta) domain')\n",
    "plt.ylabel('Relative level [dB]')"
   ]
  },
  {
   "cell_type": "markdown",
   "id": "8987c3a3",
   "metadata": {},
   "source": [
    "### 7. Plotting case with aliasing but not \"strong\" enough to bring grating lobe"
   ]
  },
  {
   "cell_type": "code",
   "execution_count": null,
   "id": "36804b6d",
   "metadata": {},
   "outputs": [],
   "source": [
    "fig = plt.figure(5)\n",
    "ax = fig.add_subplot(111, projection='polar')\n",
    "ax.set_thetamin(0)\n",
    "ax.set_thetamax(180)\n",
    "ax.set_theta_zero_location('N')\n",
    "ax.set_theta_direction(-1)\n",
    "ticks = np.linspace(0, np.pi, 7)\n",
    "ax.set_xticks(ticks)\n",
    "ax.set_rlim(-30,0)\n",
    "plt.plot(theta,AFdB_v [1])\n",
    "plt.legend(['d=0.75 $\\lambda$ - aliasing but no visible grating lobes'])\n",
    "plt.title ('Normalized array factor in angular (theta) domain')\n",
    "plt.ylabel('Relative level [dB]')"
   ]
  },
  {
   "cell_type": "markdown",
   "id": "0ebc2d99",
   "metadata": {},
   "source": [
    "### 8. Plotting case with aliasing and grating lobe in visible region"
   ]
  },
  {
   "cell_type": "code",
   "execution_count": null,
   "id": "f1b2d257",
   "metadata": {},
   "outputs": [],
   "source": [
    "fig = plt.figure(6)\n",
    "ax = fig.add_subplot(111, projection='polar')\n",
    "ax.set_thetamin(0)\n",
    "ax.set_thetamax(180)\n",
    "ax.set_theta_zero_location('N')\n",
    "ax.set_theta_direction(-1)\n",
    "ticks = np.linspace(0, np.pi, 7)\n",
    "ax.set_xticks(ticks)\n",
    "ax.set_rlim(-30,0)\n",
    "plt.plot(theta,AFdB_v [2])\n",
    "plt.legend(['d=1.5 $\\lambda$ - aliasing & visible grating lobes'])\n",
    "plt.title ('Normalized array factor in angular (theta) domain')\n",
    "plt.ylabel('Relative level [dB]')\n",
    "\n",
    "plt.show()"
   ]
  }
 ],
 "metadata": {
  "kernelspec": {
   "display_name": "Python 3",
   "language": "python",
   "name": "python3"
  },
  "language_info": {
   "codemirror_mode": {
    "name": "ipython",
    "version": 3
   },
   "file_extension": ".py",
   "mimetype": "text/x-python",
   "name": "python",
   "nbconvert_exporter": "python",
   "pygments_lexer": "ipython3",
   "version": "3.7.10"
  }
 },
 "nbformat": 4,
 "nbformat_minor": 5
}
