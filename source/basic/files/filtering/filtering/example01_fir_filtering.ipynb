{
 "cells": [
  {
   "cell_type": "markdown",
   "id": "d799aa8e",
   "metadata": {},
   "source": [
    "#  Filtering Example"
   ]
  },
  {
   "cell_type": "markdown",
   "id": "ffdf2017",
   "metadata": {},
   "source": [
    "Ericsson Nikola Tesla - DSP Hackaton 2021"
   ]
  },
  {
   "cell_type": "markdown",
   "id": "2e28f4f2",
   "metadata": {},
   "source": [
    "###  0. Imports"
   ]
  },
  {
   "cell_type": "code",
   "execution_count": null,
   "id": "5073a088",
   "metadata": {},
   "outputs": [],
   "source": [
    "from numpy import sin, pi, absolute, arange, convolve\n",
    "import numpy as np\n",
    "from scipy.signal import remez\n",
    "from scipy.fft import fft, fftshift\n",
    "from spectrum01 import spectrum01\n",
    "import matplotlib.pyplot as plt"
   ]
  },
  {
   "cell_type": "markdown",
   "id": "d628e8fc",
   "metadata": {},
   "source": [
    "### 1. Helper Methods"
   ]
  },
  {
   "cell_type": "code",
   "execution_count": null,
   "id": "76431f50",
   "metadata": {},
   "outputs": [],
   "source": [
    "def spectrum01(x,fs):\n",
    "    N=len(x)\n",
    "    Nfft=10*N\n",
    "    X = fftshift(fft(x,Nfft))\n",
    "    X=X/N\n",
    "    m = np.max(np.abs(X))\n",
    "    X = X/m\n",
    "    f=fos(Nfft,fs)\n",
    "    X=[20*np.log10(np.abs(x)) for x in X]\n",
    "    plt.plot(f,X)\n",
    "    plt.ylabel('Spectrum [dB/(\\Delta Hz)]')\n",
    "    plt.xlabel('Frequency[Hz]')\n",
    "    plt.ylim(-100, 0)\n",
    "\n",
    "    return"
   ]
  },
  {
   "cell_type": "code",
   "execution_count": null,
   "id": "dc220f74",
   "metadata": {},
   "outputs": [],
   "source": [
    "# Calculates the frequency axis for the spectral samples obtained by FFT\n",
    "def fos( N, fs ):\n",
    "\n",
    "    if (N <= 0) : \n",
    "        print('Number of samples must be a positive number greater than 0')\n",
    "\n",
    "\n",
    "    if (fs <= 0) : \n",
    "        print('Number of samples must be a positive number greater than 0')\n",
    "\n",
    "    deltaf = fs/N\n",
    "\n",
    "    if (N%2==0 ) :  # even N\n",
    "        f = np.linspace(-fs/2,fs/2-deltaf, num = N)\n",
    "    else : # odd N\n",
    "        f = np.linspace(-(fs-deltaf)/2,(fs-deltaf)/2,num = N)\n",
    "\n",
    "    return f"
   ]
  },
  {
   "cell_type": "markdown",
   "id": "fbbcc1e9",
   "metadata": {},
   "source": [
    "### 2. Create Signal"
   ]
  },
  {
   "cell_type": "code",
   "execution_count": null,
   "id": "4621e7c0",
   "metadata": {},
   "outputs": [],
   "source": [
    "N = 1000 # number of samples\n",
    "n = arange(N) # samples of a discretised signal \n",
    "\n",
    "fs = 1000 # [Hz] sampling frequency\n",
    "f1 = 10 # [Hz] (digital frequency 0.01)\n",
    "f2 = 100 # [Hz] (digital frequency 0.1)\n",
    "f3 = 200 # [Hz] (digital frequency 0.2)\n",
    "\n",
    "x1 = sin(2*pi*f1/fs*n)\n",
    "x2 = sin(2*pi*f2/fs*n)\n",
    "x3 = sin(2*pi*f3/fs*n)\n",
    "\n",
    "x = x1 + x2 + x3 # creating the signal \n",
    "\n",
    "plt.figure(1)\n",
    "plt.plot(n, x, linewidth=1)\n",
    "plt.title('Original signal')\n",
    "\n",
    "plt.figure(2)\n",
    "spectrum01(x,1) # Spectrum of dicrete signals is periodical with period 1 \n",
    "plt.title('Original signal spectrum')"
   ]
  },
  {
   "cell_type": "markdown",
   "id": "4ddd6eb8",
   "metadata": {},
   "source": [
    "### 3. Low Pass Filter"
   ]
  },
  {
   "cell_type": "code",
   "execution_count": null,
   "id": "0f23715d",
   "metadata": {},
   "outputs": [],
   "source": [
    "# Designing the low-pass filter\n",
    "freq1 = [0, 0.05, 0.15, 1]\n",
    "freq1 = [fc / 2 for fc in freq1]\n",
    "amp1 = [1, 0]\n",
    "f1 = remez(99,freq1,amp1, Hz=1)\n",
    "\n",
    "plt.figure(3)\n",
    "spectrum01(x,1)\n",
    "spectrum01(f1,1)\n",
    "plt.title('Frequency response of low-pass filter')\n",
    "\n",
    "# Filtering by convolution\n",
    "y1 = convolve(x,f1)\n",
    "\n",
    "plt.figure(4)\n",
    "plt.plot(x1)\n",
    "plt.plot(y1)\n",
    "plt.title('Extracted low-pass component of the signal')"
   ]
  },
  {
   "cell_type": "markdown",
   "id": "cdc47cb9",
   "metadata": {},
   "source": [
    "### 4. Band-Pass Filter"
   ]
  },
  {
   "cell_type": "code",
   "execution_count": null,
   "id": "358ce3ec",
   "metadata": {},
   "outputs": [],
   "source": [
    "# Designing the band-pass filter\n",
    "freq2 = [0, 0.1, 0.2, 0.3, 0.4, 1]\n",
    "freq2 = [fc / 2 for fc in freq2]\n",
    "amp2 = [0, 1, 0]\n",
    "f2 = remez(99,freq2,amp2, Hz=1)\n",
    "\n",
    "plt.figure(5)\n",
    "spectrum01(x,1)\n",
    "spectrum01(f2,1)\n",
    "plt.title('Frequency response of band-pass filter')\n",
    "\n",
    "# Filtering by convolution\n",
    "y2 = convolve(x,f2)\n",
    "\n",
    "plt.figure(6)\n",
    "plt.plot(x2)\n",
    "plt.plot(y2)\n",
    "plt.title('Extracted band-pass component of the signal')"
   ]
  },
  {
   "cell_type": "markdown",
   "id": "0dd62427",
   "metadata": {},
   "source": [
    "### 5. High-Pass Filter"
   ]
  },
  {
   "cell_type": "code",
   "execution_count": null,
   "id": "e061619c",
   "metadata": {},
   "outputs": [],
   "source": [
    "# Designing the high-pass filter\n",
    "freq3 = [0, 0.2, 0.4, 1]\n",
    "freq3 = [fc / 2 for fc in freq3]\n",
    "amp3 = [0, 1]\n",
    "f3 = remez(99,freq3,amp3, Hz=1)\n",
    "\n",
    "plt.figure(7)\n",
    "spectrum01(x,1)\n",
    "spectrum01(f3,1)\n",
    "plt.title('Frequency response of high-pass filter')\n",
    "\n",
    "# Filtering by convolution\n",
    "y3 = convolve(x,f3)\n",
    "\n",
    "plt.figure(8)\n",
    "plt.plot(x3)\n",
    "plt.plot(y3)\n",
    "plt.title('Extracted high-pass component of the signal')\n",
    "\n",
    "plt.show()"
   ]
  }
 ],
 "metadata": {
  "kernelspec": {
   "display_name": "Python 3",
   "language": "python",
   "name": "python3"
  },
  "language_info": {
   "codemirror_mode": {
    "name": "ipython",
    "version": 3
   },
   "file_extension": ".py",
   "mimetype": "text/x-python",
   "name": "python",
   "nbconvert_exporter": "python",
   "pygments_lexer": "ipython3",
   "version": "3.7.10"
  }
 },
 "nbformat": 4,
 "nbformat_minor": 5
}
